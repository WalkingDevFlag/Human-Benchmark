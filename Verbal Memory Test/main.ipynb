{
 "cells": [
  {
   "cell_type": "code",
   "execution_count": 2,
   "id": "256645e2-4e22-4460-beb0-6027da730f86",
   "metadata": {},
   "outputs": [
    {
     "ename": "NoSuchWindowException",
     "evalue": "Message: no such window: target window already closed\nfrom unknown error: web view not found\n  (Session info: chrome=130.0.6723.92)\nStacktrace:\n\tGetHandleVerifier [0x00007FF676FC3AF5+28005]\n\t(No symbol) [0x00007FF676F283F0]\n\t(No symbol) [0x00007FF676DC580A]\n\t(No symbol) [0x00007FF676D9FA85]\n\t(No symbol) [0x00007FF676E42AD7]\n\t(No symbol) [0x00007FF676E5B1B1]\n\t(No symbol) [0x00007FF676E3B7E3]\n\t(No symbol) [0x00007FF676E075C8]\n\t(No symbol) [0x00007FF676E08731]\n\tGetHandleVerifier [0x00007FF6772B646D+3118813]\n\tGetHandleVerifier [0x00007FF677306CC0+3448624]\n\tGetHandleVerifier [0x00007FF6772FCF3D+3408301]\n\tGetHandleVerifier [0x00007FF67708A44B+841403]\n\t(No symbol) [0x00007FF676F3344F]\n\t(No symbol) [0x00007FF676F2F4C4]\n\t(No symbol) [0x00007FF676F2F65D]\n\t(No symbol) [0x00007FF676F1EBB9]\n\tBaseThreadInitThunk [0x00007FFA323F257D+29]\n\tRtlUserThreadStart [0x00007FFA332EAF08+40]\n",
     "output_type": "error",
     "traceback": [
      "\u001b[1;31m---------------------------------------------------------------------------\u001b[0m",
      "\u001b[1;31mNoSuchWindowException\u001b[0m                     Traceback (most recent call last)",
      "Cell \u001b[1;32mIn[2], line 17\u001b[0m\n\u001b[0;32m     14\u001b[0m keyboard\u001b[38;5;241m.\u001b[39mwait(start_button)\n\u001b[0;32m     16\u001b[0m \u001b[38;5;66;03m# get seen and new buttons\u001b[39;00m\n\u001b[1;32m---> 17\u001b[0m seen_button \u001b[38;5;241m=\u001b[39m \u001b[43mbrowser\u001b[49m\u001b[38;5;241;43m.\u001b[39;49m\u001b[43mfind_element\u001b[49m\u001b[43m(\u001b[49m\u001b[43mBy\u001b[49m\u001b[38;5;241;43m.\u001b[39;49m\u001b[43mXPATH\u001b[49m\u001b[43m,\u001b[49m\u001b[43m \u001b[49m\u001b[38;5;124;43m'\u001b[39;49m\u001b[38;5;124;43m//button[text()=\u001b[39;49m\u001b[38;5;124;43m\"\u001b[39;49m\u001b[38;5;124;43mSEEN\u001b[39;49m\u001b[38;5;124;43m\"\u001b[39;49m\u001b[38;5;124;43m]\u001b[39;49m\u001b[38;5;124;43m'\u001b[39;49m\u001b[43m)\u001b[49m\n\u001b[0;32m     18\u001b[0m new_button \u001b[38;5;241m=\u001b[39m browser\u001b[38;5;241m.\u001b[39mfind_element(By\u001b[38;5;241m.\u001b[39mXPATH, \u001b[38;5;124m'\u001b[39m\u001b[38;5;124m//button[text()=\u001b[39m\u001b[38;5;124m\"\u001b[39m\u001b[38;5;124mNEW\u001b[39m\u001b[38;5;124m\"\u001b[39m\u001b[38;5;124m]\u001b[39m\u001b[38;5;124m'\u001b[39m)\n\u001b[0;32m     20\u001b[0m \u001b[38;5;66;03m# store seen words\u001b[39;00m\n",
      "File \u001b[1;32m~\\anaconda3\\envs\\hb\\lib\\site-packages\\selenium\\webdriver\\remote\\webdriver.py:748\u001b[0m, in \u001b[0;36mWebDriver.find_element\u001b[1;34m(self, by, value)\u001b[0m\n\u001b[0;32m    745\u001b[0m     by \u001b[38;5;241m=\u001b[39m By\u001b[38;5;241m.\u001b[39mCSS_SELECTOR\n\u001b[0;32m    746\u001b[0m     value \u001b[38;5;241m=\u001b[39m \u001b[38;5;124mf\u001b[39m\u001b[38;5;124m'\u001b[39m\u001b[38;5;124m[name=\u001b[39m\u001b[38;5;124m\"\u001b[39m\u001b[38;5;132;01m{\u001b[39;00mvalue\u001b[38;5;132;01m}\u001b[39;00m\u001b[38;5;124m\"\u001b[39m\u001b[38;5;124m]\u001b[39m\u001b[38;5;124m'\u001b[39m\n\u001b[1;32m--> 748\u001b[0m \u001b[38;5;28;01mreturn\u001b[39;00m \u001b[38;5;28;43mself\u001b[39;49m\u001b[38;5;241;43m.\u001b[39;49m\u001b[43mexecute\u001b[49m\u001b[43m(\u001b[49m\u001b[43mCommand\u001b[49m\u001b[38;5;241;43m.\u001b[39;49m\u001b[43mFIND_ELEMENT\u001b[49m\u001b[43m,\u001b[49m\u001b[43m \u001b[49m\u001b[43m{\u001b[49m\u001b[38;5;124;43m\"\u001b[39;49m\u001b[38;5;124;43musing\u001b[39;49m\u001b[38;5;124;43m\"\u001b[39;49m\u001b[43m:\u001b[49m\u001b[43m \u001b[49m\u001b[43mby\u001b[49m\u001b[43m,\u001b[49m\u001b[43m \u001b[49m\u001b[38;5;124;43m\"\u001b[39;49m\u001b[38;5;124;43mvalue\u001b[39;49m\u001b[38;5;124;43m\"\u001b[39;49m\u001b[43m:\u001b[49m\u001b[43m \u001b[49m\u001b[43mvalue\u001b[49m\u001b[43m}\u001b[49m\u001b[43m)\u001b[49m[\u001b[38;5;124m\"\u001b[39m\u001b[38;5;124mvalue\u001b[39m\u001b[38;5;124m\"\u001b[39m]\n",
      "File \u001b[1;32m~\\anaconda3\\envs\\hb\\lib\\site-packages\\selenium\\webdriver\\remote\\webdriver.py:354\u001b[0m, in \u001b[0;36mWebDriver.execute\u001b[1;34m(self, driver_command, params)\u001b[0m\n\u001b[0;32m    352\u001b[0m response \u001b[38;5;241m=\u001b[39m \u001b[38;5;28mself\u001b[39m\u001b[38;5;241m.\u001b[39mcommand_executor\u001b[38;5;241m.\u001b[39mexecute(driver_command, params)\n\u001b[0;32m    353\u001b[0m \u001b[38;5;28;01mif\u001b[39;00m response:\n\u001b[1;32m--> 354\u001b[0m     \u001b[38;5;28;43mself\u001b[39;49m\u001b[38;5;241;43m.\u001b[39;49m\u001b[43merror_handler\u001b[49m\u001b[38;5;241;43m.\u001b[39;49m\u001b[43mcheck_response\u001b[49m\u001b[43m(\u001b[49m\u001b[43mresponse\u001b[49m\u001b[43m)\u001b[49m\n\u001b[0;32m    355\u001b[0m     response[\u001b[38;5;124m\"\u001b[39m\u001b[38;5;124mvalue\u001b[39m\u001b[38;5;124m\"\u001b[39m] \u001b[38;5;241m=\u001b[39m \u001b[38;5;28mself\u001b[39m\u001b[38;5;241m.\u001b[39m_unwrap_value(response\u001b[38;5;241m.\u001b[39mget(\u001b[38;5;124m\"\u001b[39m\u001b[38;5;124mvalue\u001b[39m\u001b[38;5;124m\"\u001b[39m, \u001b[38;5;28;01mNone\u001b[39;00m))\n\u001b[0;32m    356\u001b[0m     \u001b[38;5;28;01mreturn\u001b[39;00m response\n",
      "File \u001b[1;32m~\\anaconda3\\envs\\hb\\lib\\site-packages\\selenium\\webdriver\\remote\\errorhandler.py:229\u001b[0m, in \u001b[0;36mErrorHandler.check_response\u001b[1;34m(self, response)\u001b[0m\n\u001b[0;32m    227\u001b[0m         alert_text \u001b[38;5;241m=\u001b[39m value[\u001b[38;5;124m\"\u001b[39m\u001b[38;5;124malert\u001b[39m\u001b[38;5;124m\"\u001b[39m]\u001b[38;5;241m.\u001b[39mget(\u001b[38;5;124m\"\u001b[39m\u001b[38;5;124mtext\u001b[39m\u001b[38;5;124m\"\u001b[39m)\n\u001b[0;32m    228\u001b[0m     \u001b[38;5;28;01mraise\u001b[39;00m exception_class(message, screen, stacktrace, alert_text)  \u001b[38;5;66;03m# type: ignore[call-arg]  # mypy is not smart enough here\u001b[39;00m\n\u001b[1;32m--> 229\u001b[0m \u001b[38;5;28;01mraise\u001b[39;00m exception_class(message, screen, stacktrace)\n",
      "\u001b[1;31mNoSuchWindowException\u001b[0m: Message: no such window: target window already closed\nfrom unknown error: web view not found\n  (Session info: chrome=130.0.6723.92)\nStacktrace:\n\tGetHandleVerifier [0x00007FF676FC3AF5+28005]\n\t(No symbol) [0x00007FF676F283F0]\n\t(No symbol) [0x00007FF676DC580A]\n\t(No symbol) [0x00007FF676D9FA85]\n\t(No symbol) [0x00007FF676E42AD7]\n\t(No symbol) [0x00007FF676E5B1B1]\n\t(No symbol) [0x00007FF676E3B7E3]\n\t(No symbol) [0x00007FF676E075C8]\n\t(No symbol) [0x00007FF676E08731]\n\tGetHandleVerifier [0x00007FF6772B646D+3118813]\n\tGetHandleVerifier [0x00007FF677306CC0+3448624]\n\tGetHandleVerifier [0x00007FF6772FCF3D+3408301]\n\tGetHandleVerifier [0x00007FF67708A44B+841403]\n\t(No symbol) [0x00007FF676F3344F]\n\t(No symbol) [0x00007FF676F2F4C4]\n\t(No symbol) [0x00007FF676F2F65D]\n\t(No symbol) [0x00007FF676F1EBB9]\n\tBaseThreadInitThunk [0x00007FFA323F257D+29]\n\tRtlUserThreadStart [0x00007FFA332EAF08+40]\n"
     ]
    }
   ],
   "source": [
    "from selenium import webdriver\n",
    "from selenium.webdriver.common.by import By\n",
    "from webdriver_manager.chrome import ChromeDriverManager\n",
    "import keyboard\n",
    "\n",
    "start_button = 'p'\n",
    "\n",
    "browser = webdriver.Chrome()\n",
    "page_source = \"https://humanbenchmark.com/tests/verbal-memory\"\n",
    "browser.get(page_source)\n",
    "\n",
    "# wait to start the program\n",
    "keyboard.wait(start_button)\n",
    "\n",
    "# get seen and new buttons\n",
    "seen_button = browser.find_element(By.XPATH, '//button[text()=\"SEEN\"]')\n",
    "new_button = browser.find_element(By.XPATH, '//button[text()=\"NEW\"]')\n",
    "\n",
    "# store seen words\n",
    "words = set()\n",
    "\n",
    "while True:\n",
    "    # get shown word\n",
    "    word = browser.find_element(By.CLASS_NAME, 'word').text\n",
    "    \n",
    "    if word in words:\n",
    "        seen_button.click()\n",
    "    else:\n",
    "        new_button.click()\n",
    "        words.add(word)\n",
    "        \n",
    "    # break out of loop\n",
    "    if keyboard.is_pressed(start_button): break"
   ]
  },
  {
   "cell_type": "code",
   "execution_count": null,
   "id": "8607dd27-717c-473c-bccd-ad8e5d762d0c",
   "metadata": {},
   "outputs": [],
   "source": [
    "from selenium import webdriver\n",
    "from selenium.webdriver.common.by import By\n",
    "from webdriver_manager.chrome import ChromeDriverManager\n",
    "import keyboard\n",
    "\n",
    "start_button = 'p'\n",
    "\n",
    "browser = webdriver.Chrome()\n",
    "page_source = \"https://humanbenchmark.com/tests/verbal-memory\"\n",
    "browser.get(page_source)\n",
    "\n",
    "# wait to start the program\n",
    "keyboard.wait(start_button)\n",
    "\n",
    "# get seen and new buttons\n",
    "seen_button = browser.find_element(By.XPATH, '//button[text()=\"SEEN\"]')\n",
    "new_button = browser.find_element(By.XPATH, '//button[text()=\"NEW\"]')\n",
    "\n",
    "# store seen words\n",
    "words = set()\n",
    "\n",
    "while True:\n",
    "    # get shown word\n",
    "    word = browser.find_element(By.CLASS_NAME, 'word').text\n",
    "    \n",
    "    if word in words:\n",
    "        seen_button.click()\n",
    "    else:\n",
    "        new_button.click()\n",
    "        words.add(word)\n",
    "        \n",
    "    # break out of loop\n",
    "    if keyboard.is_pressed(start_button): break"
   ]
  }
 ],
 "metadata": {
  "kernelspec": {
   "display_name": "hb",
   "language": "python",
   "name": "hb"
  },
  "language_info": {
   "codemirror_mode": {
    "name": "ipython",
    "version": 3
   },
   "file_extension": ".py",
   "mimetype": "text/x-python",
   "name": "python",
   "nbconvert_exporter": "python",
   "pygments_lexer": "ipython3",
   "version": "3.8.20"
  }
 },
 "nbformat": 4,
 "nbformat_minor": 5
}
