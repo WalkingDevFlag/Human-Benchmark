{
 "cells": [
  {
   "cell_type": "code",
   "execution_count": null,
   "id": "cd05d490-9397-4cc1-a306-6fba1bcda432",
   "metadata": {},
   "outputs": [],
   "source": [
    "from selenium import webdriver\n",
    "import numpy as np\n",
    "import time\n",
    "import pyautogui\n",
    "from ScreenGrabber import ScreenGrabber  \n",
    "\n",
    "def get_pixel_color(screen_grabber, x, y):\n",
    "    pixel = screen_grabber.get_pixel(x, y)\n",
    "    return pixel[0], pixel[1], pixel[2]  # Return RGB values\n",
    "\n",
    "def main():\n",
    "    browser = webdriver.Chrome()\n",
    "    page_source = \"https://humanbenchmark.com/tests/reactiontime\"\n",
    "    browser.get(page_source)\n",
    "\n",
    "    # Initialize the ScreenGrabber\n",
    "    # Adjust these values based on your screen setup\n",
    "    screen_grabber = ScreenGrabber(top_left_x=0, top_left_y_from_top=0, width=1920, height=1080)\n",
    "\n",
    "    x, y = 678, 600  # Target pixel position\n",
    "    getting_pixel_position = False\n",
    "    while True:\n",
    "        screen_grabber.take_screen_shot()\n",
    "        if getting_pixel_position:\n",
    "            mouse_x, mouse_y = pyautogui.position()\n",
    "            continue\n",
    "        r, g, b = get_pixel_color(screen_grabber, x, y)\n",
    "        if r > 200:\n",
    "            while True:\n",
    "                screen_grabber.take_screen_shot() \n",
    "                r, g, b = get_pixel_color(screen_grabber, x, y)\n",
    "                if g > 100 and r < 200:\n",
    "                    pyautogui.click(x, y)\n",
    "                    break\n",
    "        \n",
    "\n",
    "if __name__ == \"__main__\":\n",
    "    main()\n"
   ]
  },
  {
   "cell_type": "code",
   "execution_count": null,
   "id": "5497f8c7-54dc-4586-b9ec-0f0bb283bb41",
   "metadata": {},
   "outputs": [],
   "source": []
  }
 ],
 "metadata": {
  "kernelspec": {
   "display_name": "hb",
   "language": "python",
   "name": "hb"
  },
  "language_info": {
   "codemirror_mode": {
    "name": "ipython",
    "version": 3
   },
   "file_extension": ".py",
   "mimetype": "text/x-python",
   "name": "python",
   "nbconvert_exporter": "python",
   "pygments_lexer": "ipython3",
   "version": "3.8.20"
  }
 },
 "nbformat": 4,
 "nbformat_minor": 5
}
