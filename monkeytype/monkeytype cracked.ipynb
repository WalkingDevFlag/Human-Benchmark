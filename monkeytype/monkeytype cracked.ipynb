{
 "cells": [
  {
   "cell_type": "code",
   "execution_count": 1,
   "id": "127e5465-c5ff-4b3b-a05b-5393c8466010",
   "metadata": {},
   "outputs": [
    {
     "name": "stdout",
     "output_type": "stream",
     "text": [
      "in find few open eye these come system life end same what it other many open consider part way point child from could before where only mean much that write be seem during point against late program many have general between say would little one know course a to child make while for last by thing show should school from plan course however long such make large or word year point that each a eye could long he may write order see each look turn write ask may other early because who house all another large must fact here house\n",
      "that each a eye could long he may write order see each look turn write ask may other early because who house all another large must fact here house\n"
     ]
    }
   ],
   "source": [
    "import random\n",
    "from bs4 import BeautifulSoup\n",
    "from selenium import webdriver\n",
    "import pyautogui\n",
    "import time\n",
    "\n",
    "browser = webdriver.Chrome()\n",
    "page_url = r\"https://monkeytype.com\"\n",
    "browser.get(page_url)\n",
    "\n",
    "time.sleep(10)\n",
    "\n",
    "def get_text_to_type():\n",
    "    page_source = browser.page_source\n",
    "    soup = BeautifulSoup(page_source, 'html.parser')\n",
    "    text_to_type = \"\"\n",
    "    \n",
    "    # Find all the word divs and extract the letters\n",
    "    divs = soup.findAll(\"div\", {\"class\": \"word\"})\n",
    "    for div_element in divs:\n",
    "        spans = div_element.findAll(\"letter\")\n",
    "        for span in spans:\n",
    "            text_to_type += span.text \n",
    "        text_to_type += \" \"\n",
    "    \n",
    "    return text_to_type.strip()\n",
    "\n",
    "while True:\n",
    "    text_to_type = get_text_to_type()\n",
    "    if not text_to_type:\n",
    "        break\n",
    "    pyautogui.write(text_to_type, interval=0.04)  \n",
    "    print(text_to_type)\n",
    "    #time.sleep(1)"
   ]
  },
  {
   "cell_type": "code",
   "execution_count": null,
   "id": "ad480b13-6df8-4a8c-9d05-b76621a91387",
   "metadata": {},
   "outputs": [],
   "source": []
  }
 ],
 "metadata": {
  "kernelspec": {
   "display_name": "hb",
   "language": "python",
   "name": "hb"
  },
  "language_info": {
   "codemirror_mode": {
    "name": "ipython",
    "version": 3
   },
   "file_extension": ".py",
   "mimetype": "text/x-python",
   "name": "python",
   "nbconvert_exporter": "python",
   "pygments_lexer": "ipython3",
   "version": "3.8.20"
  }
 },
 "nbformat": 4,
 "nbformat_minor": 5
}
