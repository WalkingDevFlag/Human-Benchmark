{
 "cells": [
  {
   "cell_type": "code",
   "execution_count": 1,
   "id": "266d052e-11c1-40a4-9f5b-d0f7257ce0f8",
   "metadata": {},
   "outputs": [
    {
     "name": "stdout",
     "output_type": "stream",
     "text": [
      "to get up program look begin have number or but do into day face person against around way order most get stand during what would move more person we course year will too change long play fact take in great group form seem early that both large with work many high want eye when way look year so large such before work she also present ask too do which by new become since old just around might long new leave nation back same or follow seem think last course over we home of in a lead you the only look \n"
     ]
    }
   ],
   "source": [
    "from bs4 import BeautifulSoup\n",
    "from selenium import webdriver\n",
    "import pyautogui\n",
    "import time\n",
    "\n",
    "browser = webdriver.Chrome()\n",
    "page_url = r\"https://monkeytype.com\"\n",
    "browser.get(page_url)\n",
    "# time.sleep(10)  \n",
    "\n",
    "page_source = browser.page_source\n",
    "soup = BeautifulSoup(page_source, 'html.parser')\n",
    "text_to_type = \"\"\n",
    "\n",
    "# Find all the word divs and extract the letters\n",
    "divs = soup.findAll(\"div\", {\"class\": \"word\"})\n",
    "for div_element in divs:\n",
    "    spans = div_element.findAll(\"letter\")\n",
    "    for span in spans:\n",
    "        text_to_type += span.text \n",
    "    text_to_type += \" \"  \n",
    "\n",
    "time.sleep(2)\n",
    "pyautogui.write(text_to_type.strip(), interval=0.0)"
   ]
  },
  {
   "cell_type": "code",
   "execution_count": null,
   "id": "a2dd450b-56ff-4331-9054-6604e6cffafb",
   "metadata": {},
   "outputs": [],
   "source": []
  }
 ],
 "metadata": {
  "kernelspec": {
   "display_name": "hb",
   "language": "python",
   "name": "hb"
  },
  "language_info": {
   "codemirror_mode": {
    "name": "ipython",
    "version": 3
   },
   "file_extension": ".py",
   "mimetype": "text/x-python",
   "name": "python",
   "nbconvert_exporter": "python",
   "pygments_lexer": "ipython3",
   "version": "3.8.20"
  }
 },
 "nbformat": 4,
 "nbformat_minor": 5
}
