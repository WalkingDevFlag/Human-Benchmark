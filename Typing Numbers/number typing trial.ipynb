{
 "cells": [
  {
   "cell_type": "code",
   "execution_count": 2,
   "id": "e284165e-2736-40f7-a9e9-1e79cecf449b",
   "metadata": {},
   "outputs": [],
   "source": [
    "from selenium import webdriver\n",
    "from selenium.webdriver.common.by import By\n",
    "from bs4 import BeautifulSoup\n",
    "import keyboard\n",
    "import time\n",
    "import pyautogui\n",
    "\n",
    "# Load the Browser Page\n",
    "browser = webdriver.Chrome()\n",
    "page_source = r\"https://humanbenchmark.com/tests/number-memory\"\n",
    "browser.get(page_source)\n",
    "'''\n",
    "soup = BeautifulSoup(browser.page_source, 'html.parser')\n",
    "start_button = soup.find('button', class_='css-de05nr e19owgy710')\n",
    "'''\n",
    "time.sleep(5)\n",
    "browser.find_element(By.XPATH, '//button[text()=\"Start\"]').click()\n",
    "\n",
    "# Get the Number\n",
    "page_source = browser.page_source\n",
    "soup = BeautifulSoup(page_source, 'html.parser')\n",
    "number_element = soup.find(class_='big-number')\n",
    "number = number_element.text\n",
    "#print(number)\n",
    "\n",
    "# Type the Number\n",
    "#<input pattern=\"[0-9]*\" type=\"text\">\n",
    "time.sleep(5)\n",
    "input_box = browser.find_element(By.XPATH, \"//input[@type='text' and @pattern='[0-9]*']\")\n",
    "input_box.send_keys(number)\n",
    "\n",
    "# Click Submit\n",
    "'''\n",
    "soup = BeautifulSoup(browser.page_source, 'html.parser')\n",
    "submit_button = soup.find('button', class_='css-de05nr e19owgy710')\n",
    "'''\n",
    "time.sleep(5)\n",
    "browser.find_element(By.XPATH, '//button[text()=\"Submit\"]').click()\n",
    "\n",
    "# Click Next\n",
    "'''\n",
    "soup = BeautifulSoup(browser.page_source, 'html.parser')\n",
    "next_button = soup.find('button', class_='css-de05nr e19owgy710')\n",
    "'''\n",
    "time.sleep(5)\n",
    "browser.find_element(By.XPATH, '//button[text()=\"NEXT\"]').click()"
   ]
  }
 ],
 "metadata": {
  "kernelspec": {
   "display_name": "hb",
   "language": "python",
   "name": "hb"
  },
  "language_info": {
   "codemirror_mode": {
    "name": "ipython",
    "version": 3
   },
   "file_extension": ".py",
   "mimetype": "text/x-python",
   "name": "python",
   "nbconvert_exporter": "python",
   "pygments_lexer": "ipython3",
   "version": "3.8.20"
  }
 },
 "nbformat": 4,
 "nbformat_minor": 5
}
