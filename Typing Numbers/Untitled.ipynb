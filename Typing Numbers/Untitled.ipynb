{
 "cells": [
  {
   "cell_type": "code",
   "execution_count": 4,
   "id": "9eb38038-17e3-44aa-a4ca-9648f9fa68d5",
   "metadata": {},
   "outputs": [
    {
     "name": "stdout",
     "output_type": "stream",
     "text": [
      "ok\n"
     ]
    }
   ],
   "source": [
    "from selenium import webdriver\n",
    "from selenium.webdriver.common.by import By\n",
    "from bs4 import BeautifulSoup\n",
    "import time\n",
    "import keyboard\n",
    "\n",
    "# Set the number of iterations\n",
    "n_iterations = 50  # Change this value to your desired number of iterations\n",
    "\n",
    "# Set up the browser\n",
    "browser = webdriver.Chrome()\n",
    "page_source = \"https://humanbenchmark.com/tests/number-memory\"\n",
    "browser.get(page_source)\n",
    "\n",
    "# Wait for the page to load and click the start button\n",
    "time.sleep(5)\n",
    "browser.find_element(By.XPATH, '//button[text()=\"Start\"]').click()\n",
    "\n",
    "# Loop for n iterations\n",
    "for i in range(n_iterations):\n",
    "    # Extract the number\n",
    "    page_source = browser.page_source\n",
    "    soup = BeautifulSoup(page_source, 'html.parser')\n",
    "    number_element = soup.find(class_='big-number')\n",
    "    number = number_element.text.strip()  # Clean up any whitespace\n",
    "\n",
    "    # Increase the delay by 1 second for each iteration\n",
    "    delay = 3 + i  # Start with 5 seconds and increase by 1 for each iteration\n",
    "    time.sleep(delay)  # Delay before interacting with input box\n",
    "\n",
    "    # Input the number\n",
    "    input_box = browser.find_element(By.XPATH, \"//input[@type='text']\")\n",
    "    input_box.send_keys(number)\n",
    "\n",
    "    # Click the submit button\n",
    "    time.sleep(3)  # Keep this constant or modify as needed\n",
    "    browser.find_element(By.XPATH, '//button[text()=\"Submit\"]').click()\n",
    "\n",
    "    time.sleep(5)        \n",
    "    # Click the next button\n",
    "    browser.find_element(By.XPATH, '//button[text()=\"NEXT\"]').click()\n",
    "    \n",
    "print(\"ok\")"
   ]
  }
 ],
 "metadata": {
  "kernelspec": {
   "display_name": "hb",
   "language": "python",
   "name": "hb"
  },
  "language_info": {
   "codemirror_mode": {
    "name": "ipython",
    "version": 3
   },
   "file_extension": ".py",
   "mimetype": "text/x-python",
   "name": "python",
   "nbconvert_exporter": "python",
   "pygments_lexer": "ipython3",
   "version": "3.8.20"
  }
 },
 "nbformat": 4,
 "nbformat_minor": 5
}
