{
 "cells": [
  {
   "cell_type": "code",
   "execution_count": null,
   "id": "d41a2ecc-ae52-4728-b864-87542ce87a38",
   "metadata": {},
   "outputs": [],
   "source": [
    "import pyautogui\n",
    "import time\n",
    "import keyboard\n",
    "\n",
    "def compute_positions(top_left, bottom_right):\n",
    "    width = (bottom_right[0] - top_left[0]) // 2\n",
    "    height = (bottom_right[1] - top_left[1]) // 2\n",
    "\n",
    "    positions_ = [\n",
    "        (top_left[0], top_left[1]),\n",
    "        (top_left[0] + width, top_left[1]),\n",
    "        (bottom_right[0], top_left[1]),\n",
    "        (top_left[0], top_left[1] + height),\n",
    "        (top_left[0] + width, top_left[1] + height),\n",
    "        (bottom_right[0], top_left[1] + height),\n",
    "        (top_left[0], bottom_right[1]),\n",
    "        (top_left[0] + width, bottom_right[1]),\n",
    "        (bottom_right[0], bottom_right[1])\n",
    "    ]\n",
    "\n",
    "    return positions_\n",
    "\n",
    "top_left_ = (1050, 500)\n",
    "bottom_right_ = (1450, 900)\n",
    "\n",
    "positions = compute_positions(top_left_, bottom_right_)\n",
    "\n",
    "\n",
    "flash_list = []\n",
    "last_flash_time = None\n",
    "\n",
    "# wait to start the program\n",
    "start_button = 'p'\n",
    "keyboard.wait(start_button)\n",
    "\n",
    "try:\n",
    "    while True:\n",
    "        for idx, pos in enumerate(positions):\n",
    "            # If the position color is white\n",
    "            if pyautogui.pixelMatchesColor(pos[0], pos[1], (255, 255, 255)):\n",
    "                # Check if this position hasn't been added recently to avoid duplicate flashes\n",
    "                if len(flash_list) == 0 or flash_list[-1] != idx:\n",
    "                    flash_list.append(idx)\n",
    "                    last_flash_time = time.time()\n",
    "                    \n",
    "        # If 3 seconds has passed since the last flash\n",
    "        if last_flash_time and (time.time() - last_flash_time) >= 3:\n",
    "            for idx in flash_list:\n",
    "                pyautogui.click(positions[idx][0], positions[idx][1])\n",
    "\n",
    "            flash_list.clear()\n",
    "            last_flash_time = None\n",
    "\n",
    "        time.sleep(0.2) # Check 10 times a second\n",
    "\n",
    "except KeyboardInterrupt:\n",
    "    print(\"Script terminated by the user.\")"
   ]
  },
  {
   "cell_type": "code",
   "execution_count": null,
   "id": "a53d3dff-bb2c-41b0-9ba6-89e20e987523",
   "metadata": {},
   "outputs": [],
   "source": [
    "'''\n",
    "# Move the mouse to each position briefly as a visual marker\n",
    "for pos in positions:\n",
    "    pyautogui.moveTo(pos[0], pos[1], duration=0.2)\n",
    "    # pyautogui.click()  # Optional click to mark each position\n",
    "    time.sleep(2)  # Pause briefly at each point\n",
    "\n",
    "print(\"Markers displayed at positions.\")\n",
    "'''"
   ]
  }
 ],
 "metadata": {
  "kernelspec": {
   "display_name": "hb",
   "language": "python",
   "name": "hb"
  },
  "language_info": {
   "codemirror_mode": {
    "name": "ipython",
    "version": 3
   },
   "file_extension": ".py",
   "mimetype": "text/x-python",
   "name": "python",
   "nbconvert_exporter": "python",
   "pygments_lexer": "ipython3",
   "version": "3.8.20"
  }
 },
 "nbformat": 4,
 "nbformat_minor": 5
}
