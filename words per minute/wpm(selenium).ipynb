{
 "cells": [
  {
   "cell_type": "code",
   "execution_count": 10,
   "id": "901c763c-8d08-4fac-b421-f00b0eac2e4b",
   "metadata": {},
   "outputs": [],
   "source": [
    "from bs4 import BeautifulSoup\n",
    "from selenium import webdriver\n",
    "import pyautogui\n",
    "import time\n",
    "\n",
    "browser = webdriver.Chrome()\n",
    "page_source = r\"https://humanbenchmark.com/tests/typing\"\n",
    "browser.get(page_source)\n",
    "time.sleep(10)\n",
    "\n",
    "page_source = browser.page_source\n",
    "\n",
    "soup = BeautifulSoup(page_source, 'html.parser')\n",
    "spans = soup.find_all('span', class_='incomplete')\n",
    "text_to_type = ''.join([span.get_text() for span in spans])  # Fix here\n",
    "\n",
    "time.sleep(2)\n",
    "\n",
    "pyautogui.write(text_to_type, interval=0)"
   ]
  },
  {
   "cell_type": "code",
   "execution_count": null,
   "id": "f0512987-a8b1-4bfe-913a-69921b4682dc",
   "metadata": {},
   "outputs": [],
   "source": []
  }
 ],
 "metadata": {
  "kernelspec": {
   "display_name": "Python 3 (ipykernel)",
   "language": "python",
   "name": "python3"
  },
  "language_info": {
   "codemirror_mode": {
    "name": "ipython",
    "version": 3
   },
   "file_extension": ".py",
   "mimetype": "text/x-python",
   "name": "python",
   "nbconvert_exporter": "python",
   "pygments_lexer": "ipython3",
   "version": "3.8.20"
  }
 },
 "nbformat": 4,
 "nbformat_minor": 5
}
